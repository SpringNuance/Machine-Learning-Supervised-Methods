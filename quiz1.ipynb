{
 "cells": [
  {
   "cell_type": "code",
   "execution_count": 3,
   "metadata": {},
   "outputs": [
    {
     "name": "stdout",
     "output_type": "stream",
     "text": [
      "The RMSE on the test data:  166.13636616120564\n"
     ]
    }
   ],
   "source": [
    "import numpy as np\n",
    "from sklearn.datasets import load_diabetes\n",
    "from sklearn.metrics import mean_squared_error\n",
    "from sklearn.linear_model import LinearRegression\n",
    "\n",
    "# load the data\n",
    "X, y = load_diabetes(return_X_y=True)\n",
    "\n",
    "# division into training and testing\n",
    "np.random.seed(42)\n",
    "order = np.random.permutation(len(y))\n",
    "tst = np.sort(order[:221])\n",
    "tr = np.sort(order[221:])\n",
    "\n",
    "Xtr = X[tr, :]\n",
    "Xtst = X[tst, :]\n",
    "Ytr = y[tr]\n",
    "Ytst = y[tst]\n",
    "reg = LinearRegression(fit_intercept=False).fit(Xtr, Ytr)\n",
    "Ypredict = reg.predict(Xtst)\n",
    "error = mean_squared_error(Ytst, Ypredict, squared=False)\n",
    "print(\"The RMSE on the test data: \", error)"
   ]
  }
 ],
 "metadata": {
  "kernelspec": {
   "display_name": "Python 3",
   "language": "python",
   "name": "python3"
  },
  "language_info": {
   "codemirror_mode": {
    "name": "ipython",
    "version": 3
   },
   "file_extension": ".py",
   "mimetype": "text/x-python",
   "name": "python",
   "nbconvert_exporter": "python",
   "pygments_lexer": "ipython3",
   "version": "3.10.5"
  },
  "orig_nbformat": 4,
  "vscode": {
   "interpreter": {
    "hash": "3bc1a11519d29b3ed6f08646f3ece60640217e649724c6bcfd38e1173c1a1bce"
   }
  }
 },
 "nbformat": 4,
 "nbformat_minor": 2
}
