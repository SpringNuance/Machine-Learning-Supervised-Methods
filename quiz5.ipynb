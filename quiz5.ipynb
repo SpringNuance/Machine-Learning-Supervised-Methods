{
 "cells": [
  {
   "cell_type": "code",
   "execution_count": 1,
   "metadata": {},
   "outputs": [],
   "source": [
    "\"\"\"\n",
    "This code is based on the Sklearn example:\n",
    "https://scikit-learn.org/stable/auto_examples/classification/plot_classifier_comparison.html?highlight=classifier%20comparison\n",
    "\"\"\"\n",
    "\n",
    "import numpy as np\n",
    "from sklearn.model_selection import train_test_split\n",
    "from sklearn.metrics import f1_score, roc_auc_score\n",
    "from sklearn.preprocessing import StandardScaler\n",
    "## data set\n",
    "from sklearn.datasets import load_breast_cancer\n",
    "from sklearn.datasets import make_moons\n",
    "from sklearn.datasets import make_circles\n",
    "## learners\n",
    "from sklearn.neural_network import MLPClassifier\n",
    "from sklearn.ensemble import AdaBoostClassifier\n",
    "from sklearn.ensemble import GradientBoostingClassifier\n",
    "from sklearn.ensemble import RandomForestClassifier\n",
    "\n",
    "\n",
    "## the data sets\n",
    "datasets = [\n",
    "    load_breast_cancer(return_X_y=True),  ## X input, y output\n",
    "    make_moons(n_samples = 100, noise=0.3, random_state=1),\n",
    "    make_circles(n_samples = 100, noise=0.2, factor=0.5, random_state=1)\n",
    "]\n",
    "\n",
    "## setting the learners parameters\n",
    "classifiers = [\n",
    "    MLPClassifier(hidden_layer_sizes = (100,), alpha=0.0001, max_iter=200, \\\n",
    "                    random_state=1),\n",
    "    AdaBoostClassifier(n_estimators = 100, random_state=1),\n",
    "    GradientBoostingClassifier(n_estimators=100, learning_rate=1, \\\n",
    "                                 max_depth=1, random_state=1), \\\n",
    "    RandomForestClassifier(max_depth=4, random_state=1)\n",
    "]\n"
   ]
  },
  {
   "cell_type": "code",
   "execution_count": 3,
   "metadata": {},
   "outputs": [
    {
     "name": "stderr",
     "output_type": "stream",
     "text": [
      "c:\\Users\\nguye\\AppData\\Local\\Programs\\Python\\Python310\\lib\\site-packages\\sklearn\\neural_network\\_multilayer_perceptron.py:692: ConvergenceWarning: Stochastic Optimizer: Maximum iterations (200) reached and the optimization hasn't converged yet.\n",
      "  warnings.warn(\n"
     ]
    },
    {
     "name": "stdout",
     "output_type": "stream",
     "text": [
      "Neural Net 0.888536221060493\n",
      "AdaBoost 0.9370799103808813\n",
      "Gradient Boosting 0.9474287848074257\n",
      "Random Forest 0.9315854048863758\n",
      "\n",
      "--------------------\n",
      "Gradient Boosting 0.3158 \n",
      "AdaBoost 0.3124 \n",
      "Random Forest 0.3105 \n",
      "Neural Net 0.2962 \n"
     ]
    },
    {
     "name": "stderr",
     "output_type": "stream",
     "text": [
      "c:\\Users\\nguye\\AppData\\Local\\Programs\\Python\\Python310\\lib\\site-packages\\sklearn\\neural_network\\_multilayer_perceptron.py:692: ConvergenceWarning: Stochastic Optimizer: Maximum iterations (200) reached and the optimization hasn't converged yet.\n",
      "  warnings.warn(\n"
     ]
    },
    {
     "name": "stdout",
     "output_type": "stream",
     "text": [
      "Neural Net 0.96\n",
      "AdaBoost 0.8199999999999998\n",
      "Gradient Boosting 0.8199999999999998\n",
      "Random Forest 0.9600000000000001\n",
      "\n",
      "--------------------\n",
      "Random Forest 0.6305 \n",
      "Neural Net 0.6162 \n",
      "Gradient Boosting 0.5891 \n",
      "AdaBoost 0.5857 \n"
     ]
    },
    {
     "name": "stderr",
     "output_type": "stream",
     "text": [
      "c:\\Users\\nguye\\AppData\\Local\\Programs\\Python\\Python310\\lib\\site-packages\\sklearn\\neural_network\\_multilayer_perceptron.py:692: ConvergenceWarning: Stochastic Optimizer: Maximum iterations (200) reached and the optimization hasn't converged yet.\n",
      "  warnings.warn(\n"
     ]
    },
    {
     "name": "stdout",
     "output_type": "stream",
     "text": [
      "Neural Net 0.88\n",
      "AdaBoost 0.76\n",
      "Gradient Boosting 0.7799999999999999\n",
      "Random Forest 0.9\n",
      "\n",
      "--------------------\n",
      "Random Forest 0.9305 \n",
      "Neural Net 0.9095 \n",
      "Gradient Boosting 0.8491 \n",
      "AdaBoost 0.8390 \n"
     ]
    }
   ],
   "source": [
    "data_names = [\"Breast cancer\", \"Moons\", \"Circles\"]\n",
    "\n",
    "learner_names = [\"Neural Net\", \"AdaBoost\", \"Gradient Boosting\", \"Random Forest\"]\n",
    "\n",
    "## the data sets\n",
    "datasets = [\n",
    "    load_breast_cancer(return_X_y=True),  ## X input, y output\n",
    "    make_moons(n_samples = 100, noise=0.3, random_state=1),\n",
    "    make_circles(n_samples = 100, noise=0.2, factor=0.5, random_state=1)\n",
    "]\n",
    "\n",
    "## \n",
    "\n",
    "## setting the learners parameters\n",
    "classifiers = [\n",
    "    MLPClassifier (hidden_layer_sizes = (100,), alpha=0.0001, max_iter=200,\n",
    "                    random_state=1),\n",
    "    AdaBoostClassifier (n_estimators = 100, random_state=1),\n",
    "    GradientBoostingClassifier (n_estimators=100, learning_rate=1, \\\n",
    "                                max_depth=1, random_state=1), \\\n",
    "RandomForestClassifier (max_depth=4, random_state=1)\n",
    "]\n",
    "\n",
    "xscore_auc = np.zeros((len (datasets), len (classifiers)))\n",
    "\n",
    "# iterate over datasets\n",
    "for ds_cnt, ds in enumerate(datasets):\n",
    "    # preprocess dataset, split into training and test part \n",
    "    X, y = ds\n",
    "    ## transform the output\n",
    "    y = 2 * y -1 ## from {0,1} to {-1,+1}\n",
    "    ## scale the input data\n",
    "    ## X = StandardScaler().fit_transform (X)\n",
    "    ## select training and test\n",
    "    X_train, X_test, y_train, y_test = train_test_split (X, y, \\\n",
    "            test_size=0.5, random_state=1)\n",
    "\n",
    "    # iterate over classifiers\n",
    "    ilearner = 0\n",
    "    for name, clf in zip (learner_names, classifiers):\n",
    "        clf.fit(X_train, y_train)\n",
    "        yprediction = clf.predict(X_test) \n",
    "        ## score= clf.score (X_test, y_test)\n",
    "        roc_auc = roc_auc_score(y_test, yprediction)\n",
    "        print(name, roc_auc)\n",
    "        xscore_auc [ds_cnt, ilearner] = roc_auc\n",
    "        ilearner += 1\n",
    "    xmeanscore = np.mean(xscore_auc, 0)\n",
    "    lscores = [(xmeanscore [i], learner_names[i]) for i in range(len(learner_names))] \n",
    "    lscores.sort(reverse=True)\n",
    "    print()\n",
    "    print(20*'-')\n",
    "    for i in range (len(lscores)):\n",
    "        print(lscores [i] [1], '%6.4f '%lscores [i][0])"
   ]
  }
 ],
 "metadata": {
  "kernelspec": {
   "display_name": "Python 3",
   "language": "python",
   "name": "python3"
  },
  "language_info": {
   "codemirror_mode": {
    "name": "ipython",
    "version": 3
   },
   "file_extension": ".py",
   "mimetype": "text/x-python",
   "name": "python",
   "nbconvert_exporter": "python",
   "pygments_lexer": "ipython3",
   "version": "3.10.5"
  },
  "orig_nbformat": 4,
  "vscode": {
   "interpreter": {
    "hash": "3bc1a11519d29b3ed6f08646f3ece60640217e649724c6bcfd38e1173c1a1bce"
   }
  }
 },
 "nbformat": 4,
 "nbformat_minor": 2
}
